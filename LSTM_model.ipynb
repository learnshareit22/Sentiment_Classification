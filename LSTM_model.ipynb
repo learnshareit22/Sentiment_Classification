{
  "cells": [
    {
      "cell_type": "code",
      "execution_count": 1,
      "metadata": {
        "id": "a5RNxXk31goX"
      },
      "outputs": [],
      "source": [
        "import pandas as pd\n",
        "import numpy as np\n",
        "import tensorflow as tf\n",
        "from sklearn.model_selection import train_test_split\n",
        "from tensorflow.keras.preprocessing.text import Tokenizer\n",
        "from tensorflow.keras.preprocessing.sequence import pad_sequences\n",
        "from tensorflow.keras.layers import Embedding, LayerNormalization, Bidirectional, Dense, Dropout\n",
        "from tensorflow.keras.losses import BinaryFocalCrossentropy\n",
        "from tensorflow.keras.optimizers import Adam"
      ]
    },
    {
      "cell_type": "code",
      "execution_count": 2,
      "metadata": {
        "colab": {
          "base_uri": "https://localhost:8080/",
          "height": 206
        },
        "id": "oSgcxQUJ2B7R",
        "outputId": "e09ca0fe-e370-45ee-fad6-e6bf652d730d"
      },
      "outputs": [
        {
          "data": {
            "text/html": [
              "\n",
              "  <div id=\"df-9c8947e7-2d21-47ee-a35b-e7ed8b2f9a7e\">\n",
              "    <div class=\"colab-df-container\">\n",
              "      <div>\n",
              "<style scoped>\n",
              "    .dataframe tbody tr th:only-of-type {\n",
              "        vertical-align: middle;\n",
              "    }\n",
              "\n",
              "    .dataframe tbody tr th {\n",
              "        vertical-align: top;\n",
              "    }\n",
              "\n",
              "    .dataframe thead th {\n",
              "        text-align: right;\n",
              "    }\n",
              "</style>\n",
              "<table border=\"1\" class=\"dataframe\">\n",
              "  <thead>\n",
              "    <tr style=\"text-align: right;\">\n",
              "      <th></th>\n",
              "      <th>Sentiment</th>\n",
              "      <th>Label</th>\n",
              "    </tr>\n",
              "  </thead>\n",
              "  <tbody>\n",
              "    <tr>\n",
              "      <th>0</th>\n",
              "      <td>Wow... Loved this place.</td>\n",
              "      <td>1</td>\n",
              "    </tr>\n",
              "    <tr>\n",
              "      <th>1</th>\n",
              "      <td>Crust is not good.</td>\n",
              "      <td>0</td>\n",
              "    </tr>\n",
              "    <tr>\n",
              "      <th>2</th>\n",
              "      <td>Not tasty and the texture was just nasty.</td>\n",
              "      <td>0</td>\n",
              "    </tr>\n",
              "    <tr>\n",
              "      <th>3</th>\n",
              "      <td>Stopped by during the late May bank holiday of...</td>\n",
              "      <td>1</td>\n",
              "    </tr>\n",
              "    <tr>\n",
              "      <th>4</th>\n",
              "      <td>The selection on the menu was great and so wer...</td>\n",
              "      <td>1</td>\n",
              "    </tr>\n",
              "  </tbody>\n",
              "</table>\n",
              "</div>\n",
              "      <button class=\"colab-df-convert\" onclick=\"convertToInteractive('df-9c8947e7-2d21-47ee-a35b-e7ed8b2f9a7e')\"\n",
              "              title=\"Convert this dataframe to an interactive table.\"\n",
              "              style=\"display:none;\">\n",
              "        \n",
              "  <svg xmlns=\"http://www.w3.org/2000/svg\" height=\"24px\"viewBox=\"0 0 24 24\"\n",
              "       width=\"24px\">\n",
              "    <path d=\"M0 0h24v24H0V0z\" fill=\"none\"/>\n",
              "    <path d=\"M18.56 5.44l.94 2.06.94-2.06 2.06-.94-2.06-.94-.94-2.06-.94 2.06-2.06.94zm-11 1L8.5 8.5l.94-2.06 2.06-.94-2.06-.94L8.5 2.5l-.94 2.06-2.06.94zm10 10l.94 2.06.94-2.06 2.06-.94-2.06-.94-.94-2.06-.94 2.06-2.06.94z\"/><path d=\"M17.41 7.96l-1.37-1.37c-.4-.4-.92-.59-1.43-.59-.52 0-1.04.2-1.43.59L10.3 9.45l-7.72 7.72c-.78.78-.78 2.05 0 2.83L4 21.41c.39.39.9.59 1.41.59.51 0 1.02-.2 1.41-.59l7.78-7.78 2.81-2.81c.8-.78.8-2.07 0-2.86zM5.41 20L4 18.59l7.72-7.72 1.47 1.35L5.41 20z\"/>\n",
              "  </svg>\n",
              "      </button>\n",
              "      \n",
              "  <style>\n",
              "    .colab-df-container {\n",
              "      display:flex;\n",
              "      flex-wrap:wrap;\n",
              "      gap: 12px;\n",
              "    }\n",
              "\n",
              "    .colab-df-convert {\n",
              "      background-color: #E8F0FE;\n",
              "      border: none;\n",
              "      border-radius: 50%;\n",
              "      cursor: pointer;\n",
              "      display: none;\n",
              "      fill: #1967D2;\n",
              "      height: 32px;\n",
              "      padding: 0 0 0 0;\n",
              "      width: 32px;\n",
              "    }\n",
              "\n",
              "    .colab-df-convert:hover {\n",
              "      background-color: #E2EBFA;\n",
              "      box-shadow: 0px 1px 2px rgba(60, 64, 67, 0.3), 0px 1px 3px 1px rgba(60, 64, 67, 0.15);\n",
              "      fill: #174EA6;\n",
              "    }\n",
              "\n",
              "    [theme=dark] .colab-df-convert {\n",
              "      background-color: #3B4455;\n",
              "      fill: #D2E3FC;\n",
              "    }\n",
              "\n",
              "    [theme=dark] .colab-df-convert:hover {\n",
              "      background-color: #434B5C;\n",
              "      box-shadow: 0px 1px 3px 1px rgba(0, 0, 0, 0.15);\n",
              "      filter: drop-shadow(0px 1px 2px rgba(0, 0, 0, 0.3));\n",
              "      fill: #FFFFFF;\n",
              "    }\n",
              "  </style>\n",
              "\n",
              "      <script>\n",
              "        const buttonEl =\n",
              "          document.querySelector('#df-9c8947e7-2d21-47ee-a35b-e7ed8b2f9a7e button.colab-df-convert');\n",
              "        buttonEl.style.display =\n",
              "          google.colab.kernel.accessAllowed ? 'block' : 'none';\n",
              "\n",
              "        async function convertToInteractive(key) {\n",
              "          const element = document.querySelector('#df-9c8947e7-2d21-47ee-a35b-e7ed8b2f9a7e');\n",
              "          const dataTable =\n",
              "            await google.colab.kernel.invokeFunction('convertToInteractive',\n",
              "                                                     [key], {});\n",
              "          if (!dataTable) return;\n",
              "\n",
              "          const docLinkHtml = 'Like what you see? Visit the ' +\n",
              "            '<a target=\"_blank\" href=https://colab.research.google.com/notebooks/data_table.ipynb>data table notebook</a>'\n",
              "            + ' to learn more about interactive tables.';\n",
              "          element.innerHTML = '';\n",
              "          dataTable['output_type'] = 'display_data';\n",
              "          await google.colab.output.renderOutput(dataTable, element);\n",
              "          const docLink = document.createElement('div');\n",
              "          docLink.innerHTML = docLinkHtml;\n",
              "          element.appendChild(docLink);\n",
              "        }\n",
              "      </script>\n",
              "    </div>\n",
              "  </div>\n",
              "  "
            ],
            "text/plain": [
              "                                           Sentiment  Label\n",
              "0                           Wow... Loved this place.      1\n",
              "1                                 Crust is not good.      0\n",
              "2          Not tasty and the texture was just nasty.      0\n",
              "3  Stopped by during the late May bank holiday of...      1\n",
              "4  The selection on the menu was great and so wer...      1"
            ]
          },
          "execution_count": 2,
          "metadata": {},
          "output_type": "execute_result"
        }
      ],
      "source": [
        "df = pd.read_csv(\"sentiment.csv\")\n",
        "df.head()"
      ]
    },
    {
      "cell_type": "code",
      "execution_count": 3,
      "metadata": {
        "id": "1nZcJsOm2Zx7"
      },
      "outputs": [],
      "source": [
        "sentence = df.Sentiment.str.split()\n",
        "lengthSentence = sentence.str.len()\n",
        "maxLength = lengthSentence.max()"
      ]
    },
    {
      "cell_type": "code",
      "execution_count": 5,
      "metadata": {
        "id": "hVB5ZvEf7GlA"
      },
      "outputs": [],
      "source": [
        "oov_tok = '<OOV>'\n",
        "vocab = 3000\n",
        "\n",
        "token = Tokenizer(num_words = vocab, oov_token=oov_tok,\n",
        "                      filters='!\"#$%&()*+,-./:;<=>?@[\\\\]^`{|}~\\t\\n')\n",
        "token.fit_on_texts(df.Sentiment)"
      ]
    },
    {
      "cell_type": "code",
      "execution_count": 6,
      "metadata": {
        "id": "DHYk3aLr8BYZ"
      },
      "outputs": [],
      "source": [
        "from sklearn.model_selection import train_test_split\n",
        "train_val, test_df = train_test_split(df, test_size=0.2, stratify = df['Label'])\n",
        "train_df, val_df = train_test_split(train_val, test_size = 1/8, stratify = train_val['Label'])"
      ]
    },
    {
      "cell_type": "code",
      "execution_count": 7,
      "metadata": {
        "id": "pNdlOmzL8hii"
      },
      "outputs": [],
      "source": [
        "train_token = token.texts_to_sequences(train_df.Sentiment)\n",
        "train_padded = pad_sequences(train_token, maxlen=maxLength, padding='post')\n",
        "\n",
        "val_token = token.texts_to_sequences(val_df.Sentiment)\n",
        "val_padded = pad_sequences(val_token, maxlen=maxLength, padding='post')\n",
        "\n",
        "test_token = token.texts_to_sequences(test_df.Sentiment)\n",
        "test_padded = pad_sequences(test_token, maxlen=maxLength, padding='post')"
      ]
    },
    {
      "cell_type": "code",
      "execution_count": 8,
      "metadata": {
        "id": "xCn70cWA-_fi"
      },
      "outputs": [],
      "source": [
        "model = tf.keras.Sequential([\n",
        "    Embedding(len(token.word_index)+1, 64, mask_zero=True),\n",
        "    LayerNormalization(),\n",
        "    Bidirectional(tf.keras.layers.LSTM(64, dropout=0.3)),\n",
        "    Dense(32, activation='relu'),\n",
        "    Dropout(0.3),\n",
        "    Dense(1, activation='sigmoid')\n",
        "])"
      ]
    },
    {
      "cell_type": "code",
      "execution_count": 9,
      "metadata": {
        "id": "oRNB9sqt_G1n"
      },
      "outputs": [],
      "source": [
        "lr = 0.001\n",
        "optimizer=Adam(learning_rate=lr)\n",
        "lossFunction = BinaryFocalCrossentropy(from_logits=True)\n",
        "\n",
        "model.compile(loss='binary_crossentropy', optimizer=optimizer, metrics=['accuracy'])"
      ]
    },
    {
      "cell_type": "code",
      "execution_count": 10,
      "metadata": {
        "colab": {
          "base_uri": "https://localhost:8080/"
        },
        "id": "q5auWTdE_I1n",
        "outputId": "9d7c6258-f043-4034-ef22-40fe2b8cbfbe"
      },
      "outputs": [
        {
          "name": "stdout",
          "output_type": "stream",
          "text": [
            "Epoch 1/10\n",
            "11/11 - 13s - loss: 0.6904 - accuracy: 0.5257 - val_loss: 0.6812 - val_accuracy: 0.5600 - 13s/epoch - 1s/step\n",
            "Epoch 2/10\n",
            "11/11 - 1s - loss: 0.6038 - accuracy: 0.7729 - val_loss: 0.6436 - val_accuracy: 0.6300 - 887ms/epoch - 81ms/step\n",
            "Epoch 3/10\n",
            "11/11 - 1s - loss: 0.4712 - accuracy: 0.8629 - val_loss: 0.5770 - val_accuracy: 0.7300 - 883ms/epoch - 80ms/step\n",
            "Epoch 4/10\n",
            "11/11 - 1s - loss: 0.2603 - accuracy: 0.9271 - val_loss: 0.5601 - val_accuracy: 0.7000 - 884ms/epoch - 80ms/step\n",
            "Epoch 5/10\n",
            "11/11 - 1s - loss: 0.1060 - accuracy: 0.9771 - val_loss: 0.7213 - val_accuracy: 0.7500 - 899ms/epoch - 82ms/step\n",
            "Epoch 6/10\n",
            "11/11 - 1s - loss: 0.0466 - accuracy: 0.9900 - val_loss: 0.9308 - val_accuracy: 0.7500 - 877ms/epoch - 80ms/step\n",
            "Epoch 7/10\n",
            "11/11 - 1s - loss: 0.0347 - accuracy: 0.9929 - val_loss: 1.0014 - val_accuracy: 0.7500 - 851ms/epoch - 77ms/step\n",
            "Epoch 8/10\n",
            "11/11 - 1s - loss: 0.0255 - accuracy: 0.9943 - val_loss: 1.0830 - val_accuracy: 0.7300 - 866ms/epoch - 79ms/step\n",
            "Epoch 9/10\n",
            "11/11 - 1s - loss: 0.0156 - accuracy: 0.9971 - val_loss: 1.0807 - val_accuracy: 0.7500 - 859ms/epoch - 78ms/step\n",
            "Epoch 10/10\n",
            "11/11 - 1s - loss: 0.0101 - accuracy: 0.9986 - val_loss: 1.0878 - val_accuracy: 0.7600 - 864ms/epoch - 79ms/step\n"
          ]
        },
        {
          "data": {
            "text/plain": [
              "<keras.callbacks.History at 0x7f5356705940>"
            ]
          },
          "execution_count": 10,
          "metadata": {},
          "output_type": "execute_result"
        }
      ],
      "source": [
        "model.fit(train_padded, train_df.Label, validation_data=(val_padded, val_df.Label), batch_size = 64, epochs=10, shuffle= True, verbose=2)"
      ]
    },
    {
      "cell_type": "code",
      "execution_count": 11,
      "metadata": {
        "colab": {
          "base_uri": "https://localhost:8080/"
        },
        "id": "tt5bK1_AH114",
        "outputId": "cb4152e8-cd4b-4895-f259-a87dbf2478d1"
      },
      "outputs": [
        {
          "name": "stdout",
          "output_type": "stream",
          "text": [
            "7/7 [==============================] - 0s 14ms/step - loss: 1.3836 - accuracy: 0.7050\n"
          ]
        },
        {
          "data": {
            "text/plain": [
              "[1.3835563659667969, 0.7049999833106995]"
            ]
          },
          "execution_count": 11,
          "metadata": {},
          "output_type": "execute_result"
        }
      ],
      "source": [
        "model.evaluate(test_padded, test_df.Label)"
      ]
    },
    {
      "cell_type": "code",
      "execution_count": 12,
      "metadata": {
        "id": "nAfKx_V3hW9z"
      },
      "outputs": [],
      "source": [
        "def deploy(text, token):\n",
        "  token1 = token.texts_to_sequences([text])\n",
        "  padToken = pad_sequences(token1, maxlen=maxLength, padding='post')\n",
        "  predict = model.predict(padToken)\n",
        "  label = np.where(predict > 0.5, 1, 0)\n",
        "  if label[0][0] == 1:\n",
        "    return \"positive\"\n",
        "  else:\n",
        "    return \"nagative\"\n"
      ]
    },
    {
      "cell_type": "code",
      "execution_count": 13,
      "metadata": {
        "colab": {
          "base_uri": "https://localhost:8080/"
        },
        "id": "EIM5vFqag7C2",
        "outputId": "f8e02f08-a753-47bd-bad1-23421eccc279"
      },
      "outputs": [
        {
          "name": "stdout",
          "output_type": "stream",
          "text": [
            "1/1 [==============================] - 3s 3s/step\n",
            "Your sentiment is positive\n"
          ]
        }
      ],
      "source": [
        "sentiment = \"Welcome to Learn Share IT\"\n",
        "label = deploy(sentiment, token)\n",
        "print(\"Your sentiment is\", label)"
      ]
    }
  ],
  "metadata": {
    "accelerator": "GPU",
    "colab": {
      "provenance": []
    },
    "gpuClass": "standard",
    "kernelspec": {
      "display_name": "Python 3",
      "name": "python3"
    },
    "language_info": {
      "name": "python"
    }
  },
  "nbformat": 4,
  "nbformat_minor": 0
}
